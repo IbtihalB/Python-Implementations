{
 "cells": [
  {
   "cell_type": "markdown",
   "id": "7ab670e7-834a-48c5-97a2-ba03d96e6fe8",
   "metadata": {},
   "source": [
    "Implémentation Algorithme K-NN"
   ]
  },
  {
   "cell_type": "code",
   "execution_count": 1,
   "id": "47367c09-4fe4-47e3-ae46-e79f0a472ed5",
   "metadata": {},
   "outputs": [],
   "source": [
    "import numpy as np\n",
    "import random as rd\n",
    "from math import sqrt\n",
    "import itertools\n",
    "from sklearn.datasets import load_iris\n",
    "import collections\n",
    "import operator\n",
    "import numpy as np\n",
    "import random as rd\n",
    "import matplotlib.pyplot as plt\n",
    "from sklearn.datasets import load_iris\n",
    "import time\n",
    "import pandas as pd\n",
    "from sklearn.model_selection import train_test_split\n",
    "from sklearn import metrics\n",
    "\n",
    "proches_voisins=[]\n",
    "\n",
    "def distanc(X, Y):\n",
    "    \n",
    "    Y= np.array(Y)\n",
    "    dist = np.linalg.norm(X-Y)\n",
    "    return dist\n",
    "    \n",
    "# Création des namedtuple BT pour contenir les branches de l'arbre KD-Tree et NNRecord pour les couples point distance\n",
    "\n",
    "BT = collections.namedtuple(\"BT\", [\"value\", \"left\", \"right\"])\n",
    "NNRecord = collections.namedtuple(\"NNRecord\", [\"point\", \"distance\"])\n",
    "\n",
    "\n",
    "def kdtree(points):\n",
    "    \"\"\" Construction du k-d tree \n",
    "        Algorithme inspiré de  Wikipedia.\n",
    "        > https://en.wikipedia.org/wiki/K-d_tree#Construction\n",
    "    \n",
    "    \"\"\"\n",
    "     # Dimension des points du dataset \n",
    "    k = len(points[0])\n",
    "    def build(*, points, depth): \n",
    "        \"\"\" Retourne none s'il y a pas des points dans la liste  ou au cours de la création de l'arbre, il reste aucun point à insérer dans l'arbre\n",
    "        \"\"\"\n",
    "        if len(points) == 0:\n",
    "            return None\n",
    "        \n",
    "        # Tri des points selon x ou y  (le choix de x ou y se fait à l'aide de la profondeur et la dimension)\n",
    "        points.sort(key=operator.itemgetter(depth % k))\n",
    "        # Calcul de l'indice de la médiane  \n",
    "        middle = len(points) // 2\n",
    "        # Division des points à partir du middle en élements right et left et relancement de l'opération pour ces derniers \n",
    "        return BT(\n",
    "            value = points[middle],\n",
    "            left = build(\n",
    "                points=points[:middle],\n",
    "                depth=depth+1,\n",
    "            ),\n",
    "            right = build(\n",
    "                points=points[middle+1:],\n",
    "                depth=depth+1,\n",
    "            ), )   \n",
    "    return build(points=list(points), depth=0)\n",
    "\n",
    "\n",
    "# Changement du nom de la fonction vu que le notebook essaye d'exécuter la fonction de recherche de la méthode naive\n",
    "def cherche_k_voisins_KD_Tree(tree, point):\n",
    "    \"\"\"On cherche le point le plus proche dans l'arbre KD d'un point de test \"\"\"\n",
    "    # Dimension du point de test \n",
    "    k = len(point)\n",
    "    best = None\n",
    "    def search(*, tree, depth):\n",
    "        # mettre best la variable la plus proche de x non locale à la fonction c'est à dire accessible hors la fonction\n",
    "        nonlocal best\n",
    "        if tree is None:\n",
    "            return\n",
    "        #Calcul de la distance entre le point et la racine de l'arbre ou les branches de l'arbre \n",
    "        distance = distanc(tree.value, point)\n",
    "        #Si la distance est plus petite qu'à celle du best, on mis à jour best \n",
    "        if best is None or distance < best.distance and tree.value not in proches_voisins:\n",
    "            best = NNRecord(point=tree.value, distance=distance)\n",
    "        \n",
    "        axis = depth % k\n",
    "        # On calcule le différence entre le point et le point du tree \n",
    "        diff = point[axis] - tree.value[axis]\n",
    "        # Si la différence est négative donc x est en gauche de l'axe du point sinon il est en droite\n",
    "        if diff <= 0:\n",
    "            close, away = tree.left, tree.right\n",
    "        else:\n",
    "            close, away = tree.right, tree.left\n",
    "        # On continue la fouille dans le coté proche de x \n",
    "        search(tree=close, depth=depth+1)\n",
    "        # On teste si le point x est très proche de l'axe soit x soit y donc il a forcèment des points proches \n",
    "        # dans le coté qui a été désigné loin \n",
    "        if diff**2 < best.distance:\n",
    "            search(tree=away, depth=depth+1)\n",
    "    search(tree=tree, depth=0)\n",
    "    return best.point\n",
    "\n",
    "\n",
    "def affiche( a,  k_voisins ):\n",
    "  \n",
    "# Création des deux tableaux (axe x et y) pour affichage des points de a (tableaux numpy)\n",
    "   xx=[]\n",
    "   yy=[]\n",
    "\n",
    "# Création des deux tableaux (axe x et y) pour affichage des points de a (tableaux numpy)\n",
    "\n",
    "   for i,j in a:\n",
    "        xx.append(i)\n",
    "        yy.append(j)\n",
    "        \n",
    "   ax = np.array(xx)\n",
    "   ay= np.array(yy)\n",
    "# Création des deux tableaux (axe x et y) pour affichage des points de k_voisins (tableaux numpy)\n",
    "   x0=[]\n",
    "   y=[]\n",
    "   \n",
    "   for i,j in tuple(k_voisins):\n",
    "        x0.append(i)\n",
    "        y.append(j)\n",
    "   vx = np.array(x0)\n",
    "   vy= np.array(y)\n",
    "# Initialisation des propriétés de l'affichage\n",
    "# Affichage \n",
    "   plt.title(f' Les {len(vx)} plus proches voisins du point x ')\n",
    "   plt.xlabel('X')\n",
    "   plt.ylabel('Y')\n",
    "   plt.scatter(ax, ay,label=\"Points Moins Proches\", color = 'gray')\n",
    "   plt.scatter(vx, vy,label=\"Points Plus Proches\",color = 'blue')\n",
    "    #xx=np.array(x)\n",
    "    #yy=np.array(x)\n",
    "   plt.scatter(x[0], x[1],label=\"Point x\",color = 'red')\n",
    "   plt.legend()\n",
    "   plt.show()\n",
    "\n",
    "x=[0.3,0.6]\n",
    "\n",
    "def sklearn_to_df(sklearn_dataset):\n",
    "# Création dataFrame, colonnes caractéristiques (valeurs et étiquettes)\n",
    "    df = pd.DataFrame(data=sklearn_dataset.data,\n",
    "    columns=sklearn_dataset.feature_names)\n",
    "# Ajout colonne variable à estimer\n",
    "    df['target'] = sklearn_dataset.target\n",
    "    return df\n",
    "\n",
    "def classification(points,coluumns,dataset):\n",
    "    # Création dataFrame, colonnes caractéristiques (valeurs et étiquettes)\n",
    "    df = pd.DataFrame(data= points,columns=coluumns)\n",
    "    # Ajout colonne variable à estimer\n",
    "    df['target'] = dataset.target\n",
    "     # Groupement des lignes par target et calcul des nombres de lignes par target\n",
    "    a=pd.DataFrame({'count': df.groupby( [ \"target\"] ).size()}).reset_index()\n",
    "    column = a[\"count\"]\n",
    "    max_index = column.idxmax()\n",
    "     # La fonction retourne la classe à laquelle appartiennnent les points en arguments c'est la classe du max de nombres de lignes \n",
    "    return(df.loc[ max_index]['target'])\n",
    "\n",
    "def test (datasett, Range_k,columns):   \n",
    "    reference_points= []\n",
    "    for y in datasett[columns].values: \n",
    "        reference_points.append(tuple (y))\n",
    "    results_précisionn,results_prédiction, results_temps_execution=dict(),[],dict()\n",
    "    xy_train, xy_test, lab_train, lab_test = train_test_split(datasett[columns].values, \n",
    "    datasett['target'].values, \n",
    "    test_size=0.2,random_state=0,\n",
    "    stratify=datasett['target'])#print(xy_test)          \n",
    "    for k in Range_k:\n",
    "        proches_voisins=[]\n",
    "        start = time.time()\n",
    "        tree = kdtree(reference_points)\n",
    "        cherche_k_voisins_KD_Tree(tree=tree, point=x)\n",
    "        i=0  \n",
    "        for i in range(k):\n",
    "            proches_voisins.append(cherche_k_voisins_KD_Tree(tree=tree, point=x))\n",
    "        classification(proches_voisins,columns,datasett)\n",
    "        end = time.time()\n",
    "        results_temps_execution[k]=end-start \n",
    "    # Calcul de justesse de l'algorithme de classification sur les points de test\n",
    "    Tree = kdtree(reference_points)\n",
    "    for k in Range_k:\n",
    "        proches_voisins=[]\n",
    "        j=0        \n",
    "        for j in range(len(xy_test)):\n",
    "            cherche_k_voisins_KD_Tree(tree=Tree, point=xy_test[j])\n",
    "            i=0  \n",
    "            for i in range(k):\n",
    "                proches_voisins.append(cherche_k_voisins_KD_Tree(tree=Tree, point=xy_test[j]))\n",
    "            results_prédiction.append(classification(proches_voisins,columns,datasett))\n",
    "        results_précisionn[k] = metrics.accuracy_score(lab_test,results_prédiction)\n",
    "        results_prédiction=[]\n",
    "    return [results_précisionn,results_temps_execution]\n",
    "\n",
    "\n",
    "#print(df)"
   ]
  },
  {
   "cell_type": "markdown",
   "id": "2579ba50-b549-444f-8693-eb9bacc8f619",
   "metadata": {},
   "source": [
    "trois jeux de données\n",
    "20 valeurs de k\n",
    "Justesse et temps d'exécution \n",
    "Programme sickit-learn "
   ]
  },
  {
   "cell_type": "code",
   "execution_count": 2,
   "id": "656c03d5-446c-4fc5-a5c8-fd27bf326ca5",
   "metadata": {},
   "outputs": [],
   "source": [
    "from sklearn.neighbors import KNeighborsClassifier\n",
    "from sklearn.model_selection import train_test_split\n",
    "from sklearn.datasets import fetch_california_housing\n",
    "from sklearn.datasets import load_breast_cancer\n",
    "from sklearn.datasets import fetch_lfw_people\n",
    "from sklearn.datasets import load_iris\n",
    "import matplotlib.pyplot as plt\n",
    "import pandas as pd\n",
    "import array\n",
    "import time\n",
    "\n",
    "\n",
    "def sklearn_to_df(dataset):\n",
    "# Création dataFrame, colonnes caractéristiques (valeurs et étiquettes)\n",
    "    df = pd.DataFrame(data=dataset.data,columns=dataset.feature_names)\n",
    "# Ajout colonne variable à estimer\n",
    "    df['target'] =dataset.target\n",
    "    return df\n",
    "def test1(datasett, Range_k, columns):\n",
    "    xy_train, xy_test, lab_train, lab_test = train_test_split(datasett[columns].values,\n",
    "                                     datasett['target'], test_size=0.2, random_state=0,stratify=datasett['target']) \n",
    "# Construction du modèle d'entrainement\n",
    "    results_précision=dict()\n",
    "    results_temps_execution=dict()\n",
    "    for k in Range_k:\n",
    "        start = time.time()\n",
    "        model=KNeighborsClassifier(n_neighbors=k)\n",
    "        #entrainement\n",
    "        model.fit(xy_train,lab_train)\n",
    "        #Prédiction\n",
    "        model.predict([x])\n",
    "        end = time.time()\n",
    "        results_temps_execution[k]=end-start\n",
    "        #Calcul de la justesse\n",
    "        results_précision[k]=model.score(xy_test, lab_test)\n",
    "    return [results_précision,results_temps_execution]  \n",
    "\n"
   ]
  },
  {
   "cell_type": "code",
   "execution_count": 3,
   "id": "5d6bb9f9-4d64-4e66-ad2b-5df0facefedb",
   "metadata": {},
   "outputs": [
    {
     "data": {
      "text/plain": [
       "<matplotlib.legend.Legend at 0x2b95fa0cc70>"
      ]
     },
     "execution_count": 3,
     "metadata": {},
     "output_type": "execute_result"
    },
    {
     "data": {
      "image/png": "[encoded data removed]",
      "text/plain": [
       "<Figure size 432x288 with 1 Axes>"
      ]
     },
     "metadata": {
      "needs_background": "light"
     },
     "output_type": "display_data"
    }
   ],
   "source": [
    "iris = load_iris()\n",
    "# Chargement du jeu de données et création d'une structure DataFrame Pandas\n",
    "I = sklearn_to_df(iris) \n",
    "Range_k = range(6,120,6)\n",
    "project=test(I ,Range_k,['petal length (cm)','petal width (cm)'])\n",
    "sickit=test1(I ,Range_k,['petal length (cm)','petal width (cm)'])\n",
    "plt.plot(sickit[0].keys(),sickit[0].values(),color='blue',label=\"KNN Scikit\")\n",
    "plt.plot(project[0].keys(),project[0].values(),color='orange',label=\"KNN Projet\")\n",
    "plt.title(f\"Justesse KNN  scikit vs projet : Iris Dataset\" , fontsize=14)\n",
    "plt.xlabel(\"K\")\n",
    "plt.ylabel(\"Justesse\")\n",
    "plt.legend()\n"
   ]
  },
  {
   "cell_type": "code",
   "execution_count": 4,
   "id": "f55b3ff0-abec-44cf-8bce-3009fb336dde",
   "metadata": {},
   "outputs": [
    {
     "name": "stdout",
     "output_type": "stream",
     "text": [
      "[{6: 0.3333333333333333, 12: 0.3333333333333333, 18: 0.3333333333333333, 24: 0.3333333333333333, 30: 0.3333333333333333, 36: 0.3333333333333333, 42: 0.3333333333333333, 48: 0.3333333333333333, 54: 0.3333333333333333, 60: 0.3333333333333333, 66: 0.3333333333333333, 72: 0.3333333333333333, 78: 0.3333333333333333, 84: 0.3333333333333333, 90: 0.3333333333333333, 96: 0.3333333333333333, 102: 0.3333333333333333, 108: 0.3333333333333333, 114: 0.3333333333333333}, {6: 0.00945138931274414, 12: 0.008317947387695312, 18: 0.06297659873962402, 24: 0.02340531349182129, 30: 0.0157318115234375, 36: 0.0, 42: 0.021184921264648438, 48: 0.022992372512817383, 54: 0.0010249614715576172, 60: 0.03300046920776367, 66: 0.01933455467224121, 72: 0.02129530906677246, 78: 0.021282434463500977, 84: 0.02137589454650879, 90: 0.0291903018951416, 96: 0.02089524269104004, 102: 0.03021407127380371, 108: 0.03441953659057617, 114: 0.027379989624023438}]\n"
     ]
    },
    {
     "data": {
      "text/plain": [
       "<matplotlib.legend.Legend at 0x2b961b32ac0>"
      ]
     },
     "execution_count": 4,
     "metadata": {},
     "output_type": "execute_result"
    },
    {
     "data": {
      "image/png": "[encoded data removed]",
      "text/plain": [
       "<Figure size 432x288 with 1 Axes>"
      ]
     },
     "metadata": {
      "needs_background": "light"
     },
     "output_type": "display_data"
    }
   ],
   "source": [
    "iris = load_iris()\n",
    "# Chargement du jeu de données et création d'une structure DataFrame Pandas\n",
    "I = sklearn_to_df(iris) \n",
    "Range_k = range(6,120,6)\n",
    "project=test(I ,Range_k,['petal length (cm)','petal width (cm)'])\n",
    "print(project)\n",
    "sickit=test1(I ,Range_k,['petal length (cm)','petal width (cm)'])\n",
    "plt.plot(sickit[1].keys(),sickit[1].values(),color='blue',label=\"KNN Scikit\")\n",
    "plt.plot(project[1].keys(),project[1].values(),color='orange',label=\"KNN Projet\")\n",
    "plt.title(f\"Temps d'execution KNN  scikit vs projet : Iris Dataset\" , fontsize=14)\n",
    "plt.xlabel(\"K\")\n",
    "plt.ylabel(\"Temps d'execution\")\n",
    "plt.legend()\n"
   ]
  },
  {
   "cell_type": "code",
   "execution_count": 5,
   "id": "c61c7769-d2cc-4261-b4f8-93d976a2054e",
   "metadata": {},
   "outputs": [
    {
     "data": {
      "text/plain": [
       "<matplotlib.legend.Legend at 0x2b961c27250>"
      ]
     },
     "execution_count": 5,
     "metadata": {},
     "output_type": "execute_result"
    },
    {
     "data": {
      "image/png": "[encoded data removed]",
      "text/plain": [
       "<Figure size 432x288 with 1 Axes>"
      ]
     },
     "metadata": {
      "needs_background": "light"
     },
     "output_type": "display_data"
    }
   ],
   "source": [
    "cancer = load_breast_cancer()\n",
    "L = sklearn_to_df(cancer)\n",
    "Range_k = range(22,455,22) \n",
    "project=test(L ,Range_k,['mean perimeter','mean symmetry'])\n",
    "sickit=test1(L ,Range_k,['mean perimeter','mean symmetry'])\n",
    "#plt.plot(sickit[0].keys(),sickit[0].values(),color='blue',label=\"KNN Scikit\")\n",
    "plt.plot(project[0].keys(),project[0].values(),color='orange',label=\"KNN Projet\")\n",
    "plt.title(f\"Justesse KNN  scikit vs projet : Cancer Dataset\" , fontsize=14)\n",
    "plt.xlabel(\"K\")\n",
    "plt.ylabel(\"Justesse\")\n",
    "plt.legend()\n"
   ]
  },
  {
   "cell_type": "code",
   "execution_count": 6,
   "id": "af397762-67f8-4d21-b79d-0843ba14a85d",
   "metadata": {},
   "outputs": [
    {
     "data": {
      "text/plain": [
       "<matplotlib.legend.Legend at 0x2b961cc2ee0>"
      ]
     },
     "execution_count": 6,
     "metadata": {},
     "output_type": "execute_result"
    },
    {
     "data": {
      "image/png": "[encoded data removed]",
      "text/plain": [
       "<Figure size 432x288 with 1 Axes>"
      ]
     },
     "metadata": {
      "needs_background": "light"
     },
     "output_type": "display_data"
    }
   ],
   "source": [
    "cancer = load_breast_cancer()\n",
    "L = sklearn_to_df(cancer)\n",
    "Range_k = range(22,455,22) \n",
    "project=test(L,Range_k,['mean perimeter','mean symmetry'])\n",
    "sickit=test1(L,Range_k,['mean perimeter','mean symmetry'])\n",
    "plt.plot(sickit[1].keys(),sickit[1].values(),color='blue',label=\"KNN Scikit\")\n",
    "plt.plot(project[1].keys(),project[1].values(),color='orange',label=\"KNN Projet\")\n",
    "plt.title(f\"Temps d'execution KNN  scikit vs projet : Cancer Dataset\" , fontsize=14)\n",
    "plt.xlabel(\"K\")\n",
    "plt.ylabel(\"Temps d'exécution\")\n",
    "plt.legend()\n"
   ]
  },
  {
   "cell_type": "code",
   "execution_count": null,
   "id": "de6fd733-21ab-4452-b303-99405532bea9",
   "metadata": {},
   "outputs": [],
   "source": [
    "\n"
   ]
  },
  {
   "cell_type": "code",
   "execution_count": null,
   "id": "af6779ec-0e7f-4ea7-8887-479a8e920228",
   "metadata": {},
   "outputs": [],
   "source": []
  }
 ],
 "metadata": {
  "kernelspec": {
   "display_name": "Python 3 (ipykernel)",
   "language": "python",
   "name": "python3"
  },
  "language_info": {
   "codemirror_mode": {
    "name": "ipython",
    "version": 3
   },
   "file_extension": ".py",
   "mimetype": "text/x-python",
   "name": "python",
   "nbconvert_exporter": "python",
   "pygments_lexer": "ipython3",
   "version": "3.9.7"
  }
 },
 "nbformat": 4,
 "nbformat_minor": 5
}
